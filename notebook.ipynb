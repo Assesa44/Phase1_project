{
 "cells": [
  {
   "cell_type": "markdown",
   "id": "f285f891",
   "metadata": {},
   "source": [
    "# PHASE_ONE PROJECT\n",
    "# BUSINESS UNDERSTANDING\n",
    "## Project overview\n",
    "The primary aim of this project is to come up with actionable insights that will accurately classify the potential risk of aircraft. This project will help guide the head of the new aviation division to make accurate and data-driven decisions on which aircraft to purchase as the company ventures into this new business endeavor.  "
   ]
  },
  {
   "cell_type": "markdown",
   "id": "fe6f8e1e",
   "metadata": {},
   "source": [
    "## Business problem\n",
    "When preparing to venture into a business that the company has no expertise in, making purchases can prove to be daunting. This being the foundational phase of a business, having expert advice significantly increases the chances of having a successful business. However, as much as human knowledge is valuable, it is also subjective and prone to biases. There is pressing need to have a more scientific and evidence-based approach to help starting businesses make informed decisions when making purchases."
   ]
  },
  {
   "cell_type": "markdown",
   "id": "13c927fe",
   "metadata": {},
   "source": [
    "## Value proposition\n"
   ]
  }
 ],
 "metadata": {
  "language_info": {
   "name": "python"
  }
 },
 "nbformat": 4,
 "nbformat_minor": 5
}
