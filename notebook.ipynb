{
 "cells": [
  {
   "cell_type": "markdown",
   "id": "f285f891",
   "metadata": {},
   "source": [
    "# PHASE_ONE PROJECT\n",
    "## Business understanding\n",
    "### Business objective\n",
    "The primary aim of this project is to come up with actionable insights that will accurately classify the potential risk of aircraft. This project will help guide the head of the new aviation division to make accurate and data-driven decisions on which aircraft to purchase as the company ventures into this new business endeavor. \n",
    "**what the customer wants to accomplish, define business success criteria."
   ]
  },
  {
   "cell_type": "markdown",
   "id": "fe6f8e1e",
   "metadata": {},
   "source": [
    "### Business problem\n",
    "When preparing to venture into a business that the company has no expertise in, making purchases can prove to be daunting. This being the foundational phase of a business, having expert advice significantly increases the chances of having a successful business. However, as much as human knowledge is valuable, it is also subjective and prone to biases. There is pressing need to have a more scientific and evidence-based approach to help starting businesses make informed decisions when making purchases."
   ]
  },
  {
   "cell_type": "markdown",
   "id": "f92898c3",
   "metadata": {},
   "source": [
    "### Project plan\n",
    "In this project, I will be using `AviationData.csv` as my data source. To generate insights for the head of the new aviation division, I will be using `Pandas` for data cleaning, imputation, analysis, and `matplotlib` and `Seaborn` for visualization. "
   ]
  },
  {
   "cell_type": "markdown",
   "id": "f05e6aed",
   "metadata": {},
   "source": [
    "### Project requirements\n",
    "* Clean data\n",
    "* Analyze the data\n",
    "* Create visualizations\n",
    "* Gain insights"
   ]
  },
  {
   "cell_type": "markdown",
   "id": "1d1379c1",
   "metadata": {},
   "source": [
    "### Success criteria\n",
    "Factors that will define success for this project include achieving high accuracy in potential risk classification in aircraft, generating meaningful and useful insights to help business stakeholders make the best decisions and ultimately the success of the new business venture."
   ]
  },
  {
   "cell_type": "markdown",
   "id": "e0e27f5f",
   "metadata": {},
   "source": [
    "## Data understanding"
   ]
  }
 ],
 "metadata": {
  "language_info": {
   "name": "python"
  }
 },
 "nbformat": 4,
 "nbformat_minor": 5
}
